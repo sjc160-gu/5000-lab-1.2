{
 "cells": [
  {
   "cell_type": "markdown",
   "metadata": {},
   "source": [
    "---\n",
    "title: \"Alligators & Random\"\n",
    "author: \"Sarah Chambers\"\n",
    "format: revealjs \n",
    "code-fold: true \n",
    "---\n",
    "\n",
    "## Introduction to Alligators\n",
    "\n",
    "- Alligators are large reptiles \n",
    "- They are native to the southeastern United States and China\n",
    "\n",
    "![American Alligator](../images/alligator_2.jpg)\n",
    "\n",
    "## Habitat and Distribution\n",
    "\n",
    "- Alligators primarily inhabit freshwater environments\n",
    "- Ex: rivers, lakes, and swamps\n",
    "\n",
    "\n",
    "```{.python code-line-numbers=\"6-8\"}\n",
    "import numpy as np\n",
    "import matplotlib.pyplot as plt\n",
    "r = np.arange(0, 2, 0.01)\n",
    "theta = 2 * np.pi * r\n",
    "fig, ax = plt.subplots(subplot_kw={'projection': 'polar'})\n",
    "ax.plot(theta, r)\n",
    "ax.set_rticks([0.5, 1, 1.5, 2])\n",
    "ax.grid(True)\n",
    "plt.show()\n",
    "```\n",
    "![Alligator in Swamp](../images/alligator_1.jpg)\n",
    "\n",
    "\n",
    "## Reproduction and Life Cycle\n",
    "\n",
    "- Alligators lay eggs in nests made of vegetation. \n",
    "- Females protect the nests and assist hatchlings to water.\n",
    "\n",
    "Alligators have existed for over 150 million years, surviving through the dinosaur extinction [^1].\n",
    "\n",
    "[^1]: Alligators are considered living fossils due to their ancient lineage.\n",
    "\n",
    "\n",
    "[def]: images/alligator_1.jpg"
   ]
  }
 ],
 "metadata": {
  "language_info": {
   "name": "python"
  }
 },
 "nbformat": 4,
 "nbformat_minor": 2
}
